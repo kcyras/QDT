{
 "cells": [
  {
   "cell_type": "markdown",
   "id": "123bf757",
   "metadata": {},
   "source": [
    "Example 02\n",
    "\n",
    "arg($\\mathsf{a}$, 0.5). (**0.5**) \\\n",
    "arg($\\mathsf{b}$, 0.5). (**0.25**) \\\n",
    "arg($\\mathsf{c}$, 0.5). (**0.75**) \\\n",
    "arg($\\mathsf{d}$, 0.5). (**0.5**) \\\n",
    "arg($\\mathsf{e}$, 1). (**1**)\n",
    "\n",
    "supp($\\mathsf{b}$, $\\mathsf{a}$). \\\n",
    "att($\\mathsf{c}$, $\\mathsf{a}$). \\\n",
    "supp($\\mathsf{d}$, $\\mathsf{a}$). \\\n",
    "att($\\mathsf{e}$, $\\mathsf{b}$). \\\n",
    "supp($\\mathsf{e}$, $\\mathsf{c}$)."
   ]
  },
  {
   "cell_type": "code",
   "execution_count": 1,
   "id": "9391754b",
   "metadata": {},
   "outputs": [],
   "source": [
    "import numpy as np\n",
    "import sympy as sp\n",
    "sp.init_printing()\n",
    "\n",
    "a, b, c, d, e = sp.symbols('a b c d e')  # arguments\n",
    "\n",
    "energy, initial = sp.symbols('energy initial')\n",
    "impact = lambda energy : sp.Max(0, energy)**2 / (1 + sp.Max(0, energy)**2)\n",
    "combine = lambda initial, energy : initial - initial*impact(-energy) + (1-initial)*impact(energy)\n",
    "\n",
    "E_a, E_b, E_c, E_d, E_e = sp.symbols('E_a E_b E_c E_d E_e')  # E_x - symbolic variable for the energy of argument x"
   ]
  },
  {
   "cell_type": "code",
   "execution_count": 2,
   "id": "321ff2bd",
   "metadata": {},
   "outputs": [
    {
     "data": {
      "image/png": "[encoded data removed]",
      "text/latex": [
       "$\\displaystyle e$"
      ],
      "text/plain": [
       "e"
      ]
     },
     "execution_count": 2,
     "metadata": {},
     "output_type": "execute_result"
    }
   ],
   "source": [
    "E_e = 0  # e has no children\n",
    "fs_e = combine(e, E_e)  # fs_x - symbolic variable for the final strength of argument x\n",
    "fs_e"
   ]
  },
  {
   "cell_type": "code",
   "execution_count": 3,
   "id": "81243801",
   "metadata": {},
   "outputs": [
    {
     "data": {
      "image/png": "[encoded data removed]",
      "text/latex": [
       "$\\displaystyle 1.0$"
      ],
      "text/plain": [
       "1.00000000000000"
      ]
     },
     "execution_count": 3,
     "metadata": {},
     "output_type": "execute_result"
    }
   ],
   "source": [
    "e_initial = e.evalf(subs={e: 1.0}, chop=True)  # x_initial - initial strength of argument x\n",
    "e_initial"
   ]
  },
  {
   "cell_type": "code",
   "execution_count": 4,
   "id": "9f805f9c",
   "metadata": {},
   "outputs": [
    {
     "data": {
      "image/png": "[encoded data removed]",
      "text/latex": [
       "$\\displaystyle 1.0$"
      ],
      "text/plain": [
       "1.00000000000000"
      ]
     },
     "execution_count": 4,
     "metadata": {},
     "output_type": "execute_result"
    }
   ],
   "source": [
    "e_final = fs_e.evalf(subs={e: e_initial})  # x_final - final strength of argument x\n",
    "e_final"
   ]
  },
  {
   "cell_type": "code",
   "execution_count": 5,
   "id": "87afd01a",
   "metadata": {},
   "outputs": [
    {
     "data": {
      "image/png": "[encoded data removed]",
      "text/latex": [
       "$\\displaystyle d$"
      ],
      "text/plain": [
       "d"
      ]
     },
     "execution_count": 5,
     "metadata": {},
     "output_type": "execute_result"
    }
   ],
   "source": [
    "E_d = 0  # d has no children\n",
    "fs_d = combine(d, E_d)\n",
    "fs_d"
   ]
  },
  {
   "cell_type": "code",
   "execution_count": 6,
   "id": "c4872933",
   "metadata": {},
   "outputs": [
    {
     "data": {
      "image/png": "[encoded data removed]",
      "text/latex": [
       "$\\displaystyle 0.5$"
      ],
      "text/plain": [
       "0.500000000000000"
      ]
     },
     "execution_count": 6,
     "metadata": {},
     "output_type": "execute_result"
    }
   ],
   "source": [
    "d_initial = d.evalf(subs={d: 0.5}, chop=True)\n",
    "d_initial"
   ]
  },
  {
   "cell_type": "code",
   "execution_count": 7,
   "id": "7e121c8d",
   "metadata": {},
   "outputs": [
    {
     "data": {
      "image/png": "[encoded data removed]",
      "text/latex": [
       "$\\displaystyle 0.5$"
      ],
      "text/plain": [
       "0.500000000000000"
      ]
     },
     "execution_count": 7,
     "metadata": {},
     "output_type": "execute_result"
    }
   ],
   "source": [
    "d_final = fs_d.evalf(subs={d: d_initial, e: e_initial})\n",
    "d_final"
   ]
  },
  {
   "cell_type": "code",
   "execution_count": 8,
   "id": "0f8683db",
   "metadata": {},
   "outputs": [
    {
     "data": {
      "image/png": "[encoded data removed]",
      "text/latex": [
       "$\\displaystyle c - \\frac{c \\max\\left(0, - e\\right)^{2}}{\\max\\left(0, - e\\right)^{2} + 1} + \\frac{\\left(1 - c\\right) \\max\\left(0, e\\right)^{2}}{\\max\\left(0, e\\right)^{2} + 1}$"
      ],
      "text/plain": [
       "                 2                     2\n",
       "     c⋅Max(0, -e)     (1 - c)⋅Max(0, e) \n",
       "c - ─────────────── + ──────────────────\n",
       "              2                  2      \n",
       "    Max(0, -e)  + 1     Max(0, e)  + 1  "
      ]
     },
     "execution_count": 8,
     "metadata": {},
     "output_type": "execute_result"
    }
   ],
   "source": [
    "E_c = fs_e  # e is the only supporter of c\n",
    "fs_c = combine(c, E_c)\n",
    "fs_c"
   ]
  },
  {
   "cell_type": "code",
   "execution_count": 9,
   "id": "b0cd5dcc",
   "metadata": {},
   "outputs": [
    {
     "data": {
      "image/png": "[encoded data removed]",
      "text/latex": [
       "$\\displaystyle 0.5$"
      ],
      "text/plain": [
       "0.500000000000000"
      ]
     },
     "execution_count": 9,
     "metadata": {},
     "output_type": "execute_result"
    }
   ],
   "source": [
    "c_initial = c.evalf(subs={c: 0.5}, chop=True)\n",
    "c_initial"
   ]
  },
  {
   "cell_type": "code",
   "execution_count": 10,
   "id": "3efa20c8",
   "metadata": {},
   "outputs": [
    {
     "data": {
      "image/png": "[encoded data removed]",
      "text/latex": [
       "$\\displaystyle 0.75$"
      ],
      "text/plain": [
       "0.750000000000000"
      ]
     },
     "execution_count": 10,
     "metadata": {},
     "output_type": "execute_result"
    }
   ],
   "source": [
    "c_final = fs_c.evalf(subs={c: c_initial, e: e_initial})\n",
    "c_final"
   ]
  },
  {
   "cell_type": "code",
   "execution_count": 11,
   "id": "8e0f1a32",
   "metadata": {},
   "outputs": [
    {
     "data": {
      "image/png": "[encoded data removed]",
      "text/latex": [
       "$\\displaystyle b - \\frac{b \\max\\left(0, e\\right)^{2}}{\\max\\left(0, e\\right)^{2} + 1} + \\frac{\\left(1 - b\\right) \\max\\left(0, - e\\right)^{2}}{\\max\\left(0, - e\\right)^{2} + 1}$"
      ],
      "text/plain": [
       "                2                      2\n",
       "     b⋅Max(0, e)     (1 - b)⋅Max(0, -e) \n",
       "b - ────────────── + ───────────────────\n",
       "             2                   2      \n",
       "    Max(0, e)  + 1     Max(0, -e)  + 1  "
      ]
     },
     "execution_count": 11,
     "metadata": {},
     "output_type": "execute_result"
    }
   ],
   "source": [
    "E_b = -fs_e  # e is the only attacker of b\n",
    "fs_b = combine(b, E_b)\n",
    "fs_b"
   ]
  },
  {
   "cell_type": "code",
   "execution_count": 12,
   "id": "e52673ff",
   "metadata": {},
   "outputs": [
    {
     "data": {
      "image/png": "[encoded data removed]",
      "text/latex": [
       "$\\displaystyle 0.5$"
      ],
      "text/plain": [
       "0.500000000000000"
      ]
     },
     "execution_count": 12,
     "metadata": {},
     "output_type": "execute_result"
    }
   ],
   "source": [
    "b_initial = b.evalf(subs={b: 0.5}, chop=True)\n",
    "b_initial"
   ]
  },
  {
   "cell_type": "code",
   "execution_count": 13,
   "id": "2f633b14",
   "metadata": {},
   "outputs": [
    {
     "data": {
      "image/png": "[encoded data removed]",
      "text/latex": [
       "$\\displaystyle 0.25$"
      ],
      "text/plain": [
       "0.250000000000000"
      ]
     },
     "execution_count": 13,
     "metadata": {},
     "output_type": "execute_result"
    }
   ],
   "source": [
    "b_final = fs_b.evalf(subs={b: b_initial, e: e_initial})\n",
    "b_final"
   ]
  },
  {
   "cell_type": "code",
   "execution_count": 14,
   "id": "432e86c8",
   "metadata": {},
   "outputs": [
    {
     "data": {
      "image/png": "[encoded data removed]",
      "text/latex": [
       "$\\displaystyle a - \\frac{a \\max\\left(0, - b + \\frac{b \\max\\left(0, e\\right)^{2}}{\\max\\left(0, e\\right)^{2} + 1} + c - \\frac{c \\max\\left(0, - e\\right)^{2}}{\\max\\left(0, - e\\right)^{2} + 1} - d - \\frac{\\left(1 - b\\right) \\max\\left(0, - e\\right)^{2}}{\\max\\left(0, - e\\right)^{2} + 1} + \\frac{\\left(1 - c\\right) \\max\\left(0, e\\right)^{2}}{\\max\\left(0, e\\right)^{2} + 1}\\right)^{2}}{\\max\\left(0, - b + \\frac{b \\max\\left(0, e\\right)^{2}}{\\max\\left(0, e\\right)^{2} + 1} + c - \\frac{c \\max\\left(0, - e\\right)^{2}}{\\max\\left(0, - e\\right)^{2} + 1} - d - \\frac{\\left(1 - b\\right) \\max\\left(0, - e\\right)^{2}}{\\max\\left(0, - e\\right)^{2} + 1} + \\frac{\\left(1 - c\\right) \\max\\left(0, e\\right)^{2}}{\\max\\left(0, e\\right)^{2} + 1}\\right)^{2} + 1} + \\frac{\\left(1 - a\\right) \\max\\left(0, b - \\frac{b \\max\\left(0, e\\right)^{2}}{\\max\\left(0, e\\right)^{2} + 1} - c + \\frac{c \\max\\left(0, - e\\right)^{2}}{\\max\\left(0, - e\\right)^{2} + 1} + d + \\frac{\\left(1 - b\\right) \\max\\left(0, - e\\right)^{2}}{\\max\\left(0, - e\\right)^{2} + 1} - \\frac{\\left(1 - c\\right) \\max\\left(0, e\\right)^{2}}{\\max\\left(0, e\\right)^{2} + 1}\\right)^{2}}{\\max\\left(0, b - \\frac{b \\max\\left(0, e\\right)^{2}}{\\max\\left(0, e\\right)^{2} + 1} - c + \\frac{c \\max\\left(0, - e\\right)^{2}}{\\max\\left(0, - e\\right)^{2} + 1} + d + \\frac{\\left(1 - b\\right) \\max\\left(0, - e\\right)^{2}}{\\max\\left(0, - e\\right)^{2} + 1} - \\frac{\\left(1 - c\\right) \\max\\left(0, e\\right)^{2}}{\\max\\left(0, e\\right)^{2} + 1}\\right)^{2} + 1}$"
      ],
      "text/plain": [
       "                                                                              \n",
       "     a⋅Max(0, -b + b*Max(0, e)**2/(Max(0, e)**2 + 1) + c - c*Max(0, -e)**2/(Ma\n",
       "a - ──────────────────────────────────────────────────────────────────────────\n",
       "                                                                              \n",
       "    Max(0, -b + b*Max(0, e)**2/(Max(0, e)**2 + 1) + c - c*Max(0, -e)**2/(Max(0\n",
       "\n",
       "                                                                              \n",
       "x(0, -e)**2 + 1) - d - (1 - b)*Max(0, -e)**2/(Max(0, -e)**2 + 1) + (1 - c)*Max\n",
       "──────────────────────────────────────────────────────────────────────────────\n",
       "                                                                              \n",
       ", -e)**2 + 1) - d - (1 - b)*Max(0, -e)**2/(Max(0, -e)**2 + 1) + (1 - c)*Max(0,\n",
       "\n",
       "                             2                                                \n",
       "(0, e)**2/(Max(0, e)**2 + 1))     (1 - a)⋅Max(0, b - b*Max(0, e)**2/(Max(0, e)\n",
       "─────────────────────────────── + ────────────────────────────────────────────\n",
       "                          2                                                   \n",
       " e)**2/(Max(0, e)**2 + 1))  + 1     Max(0, b - b*Max(0, e)**2/(Max(0, e)**2 + \n",
       "\n",
       "                                                                              \n",
       "**2 + 1) - c + c*Max(0, -e)**2/(Max(0, -e)**2 + 1) + d + (1 - b)*Max(0, -e)**2\n",
       "──────────────────────────────────────────────────────────────────────────────\n",
       "                                                                              \n",
       "1) - c + c*Max(0, -e)**2/(Max(0, -e)**2 + 1) + d + (1 - b)*Max(0, -e)**2/(Max(\n",
       "\n",
       "                                                               2\n",
       "/(Max(0, -e)**2 + 1) - (1 - c)*Max(0, e)**2/(Max(0, e)**2 + 1)) \n",
       "────────────────────────────────────────────────────────────────\n",
       "                                                         2      \n",
       "0, -e)**2 + 1) - (1 - c)*Max(0, e)**2/(Max(0, e)**2 + 1))  + 1  "
      ]
     },
     "execution_count": 14,
     "metadata": {},
     "output_type": "execute_result"
    }
   ],
   "source": [
    "E_a = fs_b + fs_d - fs_c\n",
    "fs_a = combine(a, E_a)\n",
    "fs_a"
   ]
  },
  {
   "cell_type": "code",
   "execution_count": 15,
   "id": "04dc25cc",
   "metadata": {},
   "outputs": [
    {
     "data": {
      "image/png": "[encoded data removed]",
      "text/latex": [
       "$\\displaystyle 0.5$"
      ],
      "text/plain": [
       "0.500000000000000"
      ]
     },
     "execution_count": 15,
     "metadata": {},
     "output_type": "execute_result"
    }
   ],
   "source": [
    "a_initial = a.evalf(subs={a: 0.5}, chop=True)\n",
    "a_initial"
   ]
  },
  {
   "cell_type": "code",
   "execution_count": 16,
   "id": "7dfc0581",
   "metadata": {},
   "outputs": [
    {
     "data": {
      "image/png": "[encoded data removed]",
      "text/latex": [
       "$\\displaystyle 0.5$"
      ],
      "text/plain": [
       "0.500000000000000"
      ]
     },
     "execution_count": 16,
     "metadata": {},
     "output_type": "execute_result"
    }
   ],
   "source": [
    "a_final = fs_a.evalf(subs={a: a_initial, b: b_initial, c: c_initial, d: d_initial, e: e_initial})\n",
    "a_final"
   ]
  },
  {
   "cell_type": "markdown",
   "id": "c653e8d0",
   "metadata": {},
   "source": [
    "We can compute the contributions to $\\mathsf{a}$ according to the gradient saliency method, evaluating them at the point of initial strengths. Note that in this case the final strength of $\\mathsf{a}$ does not change from the initial one, and all the contributions are actually 0. E.g."
   ]
  },
  {
   "cell_type": "code",
   "execution_count": 17,
   "id": "5a2c3d8c",
   "metadata": {
    "scrolled": true
   },
   "outputs": [
    {
     "data": {
      "image/png": "[encoded data removed]",
      "text/latex": [
       "$\\displaystyle 0$"
      ],
      "text/plain": [
       "0"
      ]
     },
     "execution_count": 17,
     "metadata": {},
     "output_type": "execute_result"
    }
   ],
   "source": [
    "pdfs_a_b = fs_a.diff(b)  # pdf_x - partial derivative of f wrt x\n",
    "pdfs_a_b_eval = sp.lambdify([a, b, c, d, e], pdfs_a_b, 'numpy')\n",
    "pdfs_a_b_eval(a_initial, b_initial, c_initial, d_initial, e_initial)"
   ]
  },
  {
   "cell_type": "markdown",
   "id": "ba33dcdb",
   "metadata": {},
   "source": [
    "Other contributions need not be nil, e.g. from $\\mathsf{e}$ to $\\mathsf{b}$:"
   ]
  },
  {
   "cell_type": "code",
   "execution_count": 18,
   "id": "dfc56394",
   "metadata": {},
   "outputs": [
    {
     "data": {
      "image/png": "[encoded data removed]",
      "text/latex": [
       "$\\displaystyle - \\frac{2 b \\theta\\left(e\\right) \\max\\left(0, e\\right)}{\\max\\left(0, e\\right)^{2} + 1} + \\frac{2 b \\theta\\left(e\\right) \\max\\left(0, e\\right)^{3}}{\\left(\\max\\left(0, e\\right)^{2} + 1\\right)^{2}} - \\frac{2 \\cdot \\left(1 - b\\right) \\theta\\left(- e\\right) \\max\\left(0, - e\\right)}{\\max\\left(0, - e\\right)^{2} + 1} + \\frac{2 \\cdot \\left(1 - b\\right) \\theta\\left(- e\\right) \\max\\left(0, - e\\right)^{3}}{\\left(\\max\\left(0, - e\\right)^{2} + 1\\right)^{2}}$"
      ],
      "text/plain": [
       "                                         3                                    \n",
       "  2⋅b⋅θ(e)⋅Max(0, e)   2⋅b⋅θ(e)⋅Max(0, e)    2⋅(1 - b)⋅θ(-e)⋅Max(0, -e)   2⋅(1\n",
       "- ────────────────── + ─────────────────── - ────────────────────────── + ────\n",
       "             2                          2                   2                 \n",
       "    Max(0, e)  + 1      ⎛         2    ⎞          Max(0, -e)  + 1             \n",
       "                        ⎝Max(0, e)  + 1⎠                                      \n",
       "\n",
       "                      3\n",
       " - b)⋅θ(-e)⋅Max(0, -e) \n",
       "───────────────────────\n",
       "                  2    \n",
       " ⎛          2    ⎞     \n",
       " ⎝Max(0, -e)  + 1⎠     "
      ]
     },
     "execution_count": 18,
     "metadata": {},
     "output_type": "execute_result"
    }
   ],
   "source": [
    "pdfs_b_e = fs_b.diff(e)\n",
    "pdfs_b_e"
   ]
  },
  {
   "cell_type": "code",
   "execution_count": 19,
   "id": "6868b61d",
   "metadata": {},
   "outputs": [
    {
     "data": {
      "image/png": "[encoded data removed]",
      "text/latex": [
       "$\\displaystyle -0.25$"
      ],
      "text/plain": [
       "-0.250000000000000"
      ]
     },
     "execution_count": 19,
     "metadata": {},
     "output_type": "execute_result"
    }
   ],
   "source": [
    "pdfs_b_e_eval = sp.lambdify([a, b, c, d, e], pdfs_b_e, 'numpy')\n",
    "pdfs_b_e_eval(a_initial, b_initial, c_initial, d_initial, e_initial)"
   ]
  }
 ],
 "metadata": {
  "kernelspec": {
   "display_name": "Python 3 (ipykernel)",
   "language": "python",
   "name": "python3"
  },
  "language_info": {
   "codemirror_mode": {
    "name": "ipython",
    "version": 3
   },
   "file_extension": ".py",
   "mimetype": "text/x-python",
   "name": "python",
   "nbconvert_exporter": "python",
   "pygments_lexer": "ipython3",
   "version": "3.10.2"
  }
 },
 "nbformat": 4,
 "nbformat_minor": 5
}
