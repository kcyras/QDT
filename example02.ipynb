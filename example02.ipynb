{
 "cells": [
  {
   "cell_type": "markdown",
   "id": "123bf757",
   "metadata": {},
   "source": [
    "Example 02\n",
    "\n",
    "arg($\\mathsf{a}$, 0.5). (**0.5**) \\\n",
    "arg($\\mathsf{b}$, 0.5). (**0.25**) \\\n",
    "arg($\\mathsf{c}$, 0.5). (**0.75**) \\\n",
    "arg($\\mathsf{d}$, 0.5). (**0.5**) \\\n",
    "arg($\\mathsf{e}$, 1). (**1**)\n",
    "\n",
    "supp($\\mathsf{b}$, $\\mathsf{a}$). \\\n",
    "att($\\mathsf{c}$, $\\mathsf{a}$). \\\n",
    "supp($\\mathsf{d}$, $\\mathsf{a}$). \\\n",
    "att($\\mathsf{e}$, $\\mathsf{b}$). \\\n",
    "supp($\\mathsf{e}$, $\\mathsf{c}$)."
   ]
  },
  {
   "cell_type": "code",
   "execution_count": 41,
   "id": "addressed-heating",
   "metadata": {},
   "outputs": [],
   "source": [
    "%%capture\n",
    "# install dependencies\n",
    "try:\n",
    "    import sympy\n",
    "except:\n",
    "    import sys\n",
    "    !{sys.executable} -m pip install sympy"
   ]
  },
  {
   "cell_type": "code",
   "execution_count": 42,
   "id": "9391754b",
   "metadata": {},
   "outputs": [],
   "source": [
    "import numpy as np\n",
    "import sympy as sp\n",
    "sp.init_printing()\n",
    "\n",
    "a, b, c, d, e = sp.symbols('a b c d e')  # arguments\n",
    "\n",
    "energy, initial = sp.symbols('energy initial')\n",
    "impact = lambda energy : sp.Max(0, energy)**2 / (1 + sp.Max(0, energy)**2)\n",
    "combine = lambda initial, energy : initial - initial*impact(-energy) + (1-initial)*impact(energy)\n",
    "\n",
    "E_a, E_b, E_c, E_d, E_e = sp.symbols('E_a E_b E_c E_d E_e')  # E_x - symbolic variable for the energy of argument x"
   ]
  },
  {
   "cell_type": "code",
   "execution_count": 43,
   "id": "321ff2bd",
   "metadata": {},
   "outputs": [
    {
     "data": {
      "text/latex": [
       "$\\displaystyle e$"
      ],
      "text/plain": [
       "e"
      ]
     },
     "execution_count": 43,
     "metadata": {},
     "output_type": "execute_result"
    }
   ],
   "source": [
    "E_e = 0  # e has no children\n",
    "fs_e = combine(e, E_e)  # fs_x - symbolic variable for the final strength of argument x\n",
    "fs_e"
   ]
  },
  {
   "cell_type": "code",
   "execution_count": 44,
   "id": "81243801",
   "metadata": {},
   "outputs": [
    {
     "data": {
      "text/latex": [
       "$\\displaystyle 1.0$"
      ],
      "text/plain": [
       "1.00000000000000"
      ]
     },
     "execution_count": 44,
     "metadata": {},
     "output_type": "execute_result"
    }
   ],
   "source": [
    "e_initial = e.evalf(subs={e: 1.0}, chop=True)  # x_initial - initial strength of argument x\n",
    "e_initial"
   ]
  },
  {
   "cell_type": "code",
   "execution_count": 45,
   "id": "9f805f9c",
   "metadata": {},
   "outputs": [
    {
     "data": {
      "text/latex": [
       "$\\displaystyle 1.0$"
      ],
      "text/plain": [
       "1.00000000000000"
      ]
     },
     "execution_count": 45,
     "metadata": {},
     "output_type": "execute_result"
    }
   ],
   "source": [
    "e_final = fs_e.evalf(subs={e: e_initial})  # x_final - final strength of argument x\n",
    "e_final"
   ]
  },
  {
   "cell_type": "code",
   "execution_count": 46,
   "id": "87afd01a",
   "metadata": {},
   "outputs": [
    {
     "data": {
      "text/latex": [
       "$\\displaystyle d$"
      ],
      "text/plain": [
       "d"
      ]
     },
     "execution_count": 46,
     "metadata": {},
     "output_type": "execute_result"
    }
   ],
   "source": [
    "E_d = 0  # d has no children\n",
    "fs_d = combine(d, E_d)\n",
    "fs_d"
   ]
  },
  {
   "cell_type": "code",
   "execution_count": 47,
   "id": "c4872933",
   "metadata": {},
   "outputs": [
    {
     "data": {
      "text/latex": [
       "$\\displaystyle 0.5$"
      ],
      "text/plain": [
       "0.500000000000000"
      ]
     },
     "execution_count": 47,
     "metadata": {},
     "output_type": "execute_result"
    }
   ],
   "source": [
    "d_initial = d.evalf(subs={d: 0.5}, chop=True)\n",
    "d_initial"
   ]
  },
  {
   "cell_type": "code",
   "execution_count": 48,
   "id": "7e121c8d",
   "metadata": {},
   "outputs": [
    {
     "data": {
      "text/latex": [
       "$\\displaystyle 0.5$"
      ],
      "text/plain": [
       "0.500000000000000"
      ]
     },
     "execution_count": 48,
     "metadata": {},
     "output_type": "execute_result"
    }
   ],
   "source": [
    "d_final = fs_d.evalf(subs={d: d_initial, e: e_initial})\n",
    "d_final"
   ]
  },
  {
   "cell_type": "code",
   "execution_count": 49,
   "id": "0f8683db",
   "metadata": {},
   "outputs": [
    {
     "data": {
      "text/latex": [
       "$\\displaystyle c - \\frac{c \\max\\left(0, - e\\right)^{2}}{\\max\\left(0, - e\\right)^{2} + 1} + \\frac{\\left(1 - c\\right) \\max\\left(0, e\\right)^{2}}{\\max\\left(0, e\\right)^{2} + 1}$"
      ],
      "text/plain": [
       "                 2                     2\n",
       "     c⋅Max(0, -e)     (1 - c)⋅Max(0, e) \n",
       "c - ─────────────── + ──────────────────\n",
       "              2                  2      \n",
       "    Max(0, -e)  + 1     Max(0, e)  + 1  "
      ]
     },
     "execution_count": 49,
     "metadata": {},
     "output_type": "execute_result"
    }
   ],
   "source": [
    "E_c = fs_e  # e is the only supporter of c\n",
    "fs_c = combine(c, E_c)\n",
    "fs_c"
   ]
  },
  {
   "cell_type": "code",
   "execution_count": 50,
   "id": "b0cd5dcc",
   "metadata": {},
   "outputs": [
    {
     "data": {
      "text/latex": [
       "$\\displaystyle 0.5$"
      ],
      "text/plain": [
       "0.500000000000000"
      ]
     },
     "execution_count": 50,
     "metadata": {},
     "output_type": "execute_result"
    }
   ],
   "source": [
    "c_initial = c.evalf(subs={c: 0.5}, chop=True)\n",
    "c_initial"
   ]
  },
  {
   "cell_type": "code",
   "execution_count": 51,
   "id": "3efa20c8",
   "metadata": {},
   "outputs": [
    {
     "data": {
      "text/latex": [
       "$\\displaystyle 0.75$"
      ],
      "text/plain": [
       "0.750000000000000"
      ]
     },
     "execution_count": 51,
     "metadata": {},
     "output_type": "execute_result"
    }
   ],
   "source": [
    "c_final = fs_c.evalf(subs={c: c_initial, e: e_initial})\n",
    "c_final"
   ]
  },
  {
   "cell_type": "code",
   "execution_count": 52,
   "id": "8e0f1a32",
   "metadata": {},
   "outputs": [
    {
     "data": {
      "text/latex": [
       "$\\displaystyle b - \\frac{b \\max\\left(0, e\\right)^{2}}{\\max\\left(0, e\\right)^{2} + 1} + \\frac{\\left(1 - b\\right) \\max\\left(0, - e\\right)^{2}}{\\max\\left(0, - e\\right)^{2} + 1}$"
      ],
      "text/plain": [
       "                2                      2\n",
       "     b⋅Max(0, e)     (1 - b)⋅Max(0, -e) \n",
       "b - ────────────── + ───────────────────\n",
       "             2                   2      \n",
       "    Max(0, e)  + 1     Max(0, -e)  + 1  "
      ]
     },
     "execution_count": 52,
     "metadata": {},
     "output_type": "execute_result"
    }
   ],
   "source": [
    "E_b = -fs_e  # e is the only attacker of b\n",
    "fs_b = combine(b, E_b)\n",
    "fs_b"
   ]
  },
  {
   "cell_type": "code",
   "execution_count": 53,
   "id": "e52673ff",
   "metadata": {},
   "outputs": [
    {
     "data": {
      "text/latex": [
       "$\\displaystyle 0.5$"
      ],
      "text/plain": [
       "0.500000000000000"
      ]
     },
     "execution_count": 53,
     "metadata": {},
     "output_type": "execute_result"
    }
   ],
   "source": [
    "b_initial = b.evalf(subs={b: 0.5}, chop=True)\n",
    "b_initial"
   ]
  },
  {
   "cell_type": "code",
   "execution_count": 54,
   "id": "2f633b14",
   "metadata": {},
   "outputs": [
    {
     "data": {
      "text/latex": [
       "$\\displaystyle 0.25$"
      ],
      "text/plain": [
       "0.250000000000000"
      ]
     },
     "execution_count": 54,
     "metadata": {},
     "output_type": "execute_result"
    }
   ],
   "source": [
    "b_final = fs_b.evalf(subs={b: b_initial, e: e_initial})\n",
    "b_final"
   ]
  },
  {
   "cell_type": "code",
   "execution_count": 55,
   "id": "432e86c8",
   "metadata": {},
   "outputs": [
    {
     "data": {
      "text/latex": [
       "$\\displaystyle a - \\frac{a \\max\\left(0, - b + \\frac{b \\max\\left(0, e\\right)^{2}}{\\max\\left(0, e\\right)^{2} + 1} + c - \\frac{c \\max\\left(0, - e\\right)^{2}}{\\max\\left(0, - e\\right)^{2} + 1} - d - \\frac{\\left(1 - b\\right) \\max\\left(0, - e\\right)^{2}}{\\max\\left(0, - e\\right)^{2} + 1} + \\frac{\\left(1 - c\\right) \\max\\left(0, e\\right)^{2}}{\\max\\left(0, e\\right)^{2} + 1}\\right)^{2}}{\\max\\left(0, - b + \\frac{b \\max\\left(0, e\\right)^{2}}{\\max\\left(0, e\\right)^{2} + 1} + c - \\frac{c \\max\\left(0, - e\\right)^{2}}{\\max\\left(0, - e\\right)^{2} + 1} - d - \\frac{\\left(1 - b\\right) \\max\\left(0, - e\\right)^{2}}{\\max\\left(0, - e\\right)^{2} + 1} + \\frac{\\left(1 - c\\right) \\max\\left(0, e\\right)^{2}}{\\max\\left(0, e\\right)^{2} + 1}\\right)^{2} + 1} + \\frac{\\left(1 - a\\right) \\max\\left(0, b - \\frac{b \\max\\left(0, e\\right)^{2}}{\\max\\left(0, e\\right)^{2} + 1} - c + \\frac{c \\max\\left(0, - e\\right)^{2}}{\\max\\left(0, - e\\right)^{2} + 1} + d + \\frac{\\left(1 - b\\right) \\max\\left(0, - e\\right)^{2}}{\\max\\left(0, - e\\right)^{2} + 1} - \\frac{\\left(1 - c\\right) \\max\\left(0, e\\right)^{2}}{\\max\\left(0, e\\right)^{2} + 1}\\right)^{2}}{\\max\\left(0, b - \\frac{b \\max\\left(0, e\\right)^{2}}{\\max\\left(0, e\\right)^{2} + 1} - c + \\frac{c \\max\\left(0, - e\\right)^{2}}{\\max\\left(0, - e\\right)^{2} + 1} + d + \\frac{\\left(1 - b\\right) \\max\\left(0, - e\\right)^{2}}{\\max\\left(0, - e\\right)^{2} + 1} - \\frac{\\left(1 - c\\right) \\max\\left(0, e\\right)^{2}}{\\max\\left(0, e\\right)^{2} + 1}\\right)^{2} + 1}$"
      ],
      "text/plain": [
       "                                                                              \n",
       "     a⋅Max(0, -b + b*Max(0, e)**2/(Max(0, e)**2 + 1) + c - c*Max(0, -e)**2/(Ma\n",
       "a - ──────────────────────────────────────────────────────────────────────────\n",
       "                                                                              \n",
       "    Max(0, -b + b*Max(0, e)**2/(Max(0, e)**2 + 1) + c - c*Max(0, -e)**2/(Max(0\n",
       "\n",
       "                                                                              \n",
       "x(0, -e)**2 + 1) - d - (1 - b)*Max(0, -e)**2/(Max(0, -e)**2 + 1) + (1 - c)*Max\n",
       "──────────────────────────────────────────────────────────────────────────────\n",
       "                                                                              \n",
       ", -e)**2 + 1) - d - (1 - b)*Max(0, -e)**2/(Max(0, -e)**2 + 1) + (1 - c)*Max(0,\n",
       "\n",
       "                             2                                                \n",
       "(0, e)**2/(Max(0, e)**2 + 1))     (1 - a)⋅Max(0, b - b*Max(0, e)**2/(Max(0, e)\n",
       "─────────────────────────────── + ────────────────────────────────────────────\n",
       "                          2                                                   \n",
       " e)**2/(Max(0, e)**2 + 1))  + 1     Max(0, b - b*Max(0, e)**2/(Max(0, e)**2 + \n",
       "\n",
       "                                                                              \n",
       "**2 + 1) - c + c*Max(0, -e)**2/(Max(0, -e)**2 + 1) + d + (1 - b)*Max(0, -e)**2\n",
       "──────────────────────────────────────────────────────────────────────────────\n",
       "                                                                              \n",
       "1) - c + c*Max(0, -e)**2/(Max(0, -e)**2 + 1) + d + (1 - b)*Max(0, -e)**2/(Max(\n",
       "\n",
       "                                                               2\n",
       "/(Max(0, -e)**2 + 1) - (1 - c)*Max(0, e)**2/(Max(0, e)**2 + 1)) \n",
       "────────────────────────────────────────────────────────────────\n",
       "                                                         2      \n",
       "0, -e)**2 + 1) - (1 - c)*Max(0, e)**2/(Max(0, e)**2 + 1))  + 1  "
      ]
     },
     "execution_count": 55,
     "metadata": {},
     "output_type": "execute_result"
    }
   ],
   "source": [
    "E_a = fs_b + fs_d - fs_c\n",
    "fs_a = combine(a, E_a)\n",
    "fs_a"
   ]
  },
  {
   "cell_type": "code",
   "execution_count": 56,
   "id": "04dc25cc",
   "metadata": {},
   "outputs": [
    {
     "data": {
      "text/latex": [
       "$\\displaystyle 0.5$"
      ],
      "text/plain": [
       "0.500000000000000"
      ]
     },
     "execution_count": 56,
     "metadata": {},
     "output_type": "execute_result"
    }
   ],
   "source": [
    "a_initial = a.evalf(subs={a: 0.5}, chop=True)\n",
    "a_initial"
   ]
  },
  {
   "cell_type": "code",
   "execution_count": 57,
   "id": "7dfc0581",
   "metadata": {},
   "outputs": [
    {
     "data": {
      "text/latex": [
       "$\\displaystyle 0.5$"
      ],
      "text/plain": [
       "0.500000000000000"
      ]
     },
     "execution_count": 57,
     "metadata": {},
     "output_type": "execute_result"
    }
   ],
   "source": [
    "a_final = fs_a.evalf(subs={a: a_initial, b: b_initial, c: c_initial, d: d_initial, e: e_initial})\n",
    "a_final"
   ]
  },
  {
   "cell_type": "markdown",
   "id": "c653e8d0",
   "metadata": {},
   "source": [
    "We can compute the contributions to $\\mathsf{a}$ according to the gradient saliency method, evaluating them at the point of initial strengths. Note that in this case the final strength of $\\mathsf{a}$ does not change from the initial one, and all the contributions are actually 0. E.g."
   ]
  },
  {
   "cell_type": "code",
   "execution_count": 58,
   "id": "5a2c3d8c",
   "metadata": {
    "scrolled": true
   },
   "outputs": [
    {
     "data": {
      "text/latex": [
       "$\\displaystyle 0$"
      ],
      "text/plain": [
       "0"
      ]
     },
     "execution_count": 58,
     "metadata": {},
     "output_type": "execute_result"
    }
   ],
   "source": [
    "pdfs_a_b = fs_a.diff(b)  # pdf_x - partial derivative of f wrt x\n",
    "pdfs_a_b.evalf(subs = {a: a_initial, b: b_initial, c: c_initial, d: d_initial, e: e_initial})"
   ]
  },
  {
   "cell_type": "markdown",
   "id": "ba33dcdb",
   "metadata": {},
   "source": [
    "Other contributions need not be nil, e.g. from $\\mathsf{e}$ to $\\mathsf{b}$:"
   ]
  },
  {
   "cell_type": "code",
   "execution_count": 59,
   "id": "dfc56394",
   "metadata": {},
   "outputs": [
    {
     "data": {
      "text/latex": [
       "$\\displaystyle -0.25$"
      ],
      "text/plain": [
       "-0.250000000000000"
      ]
     },
     "execution_count": 59,
     "metadata": {},
     "output_type": "execute_result"
    }
   ],
   "source": [
    "pdfs_b_e = fs_b.diff(e)\n",
    "pdfs_b_e.evalf(subs = {a: a_initial, b: b_initial, c: c_initial, d: d_initial, e: e_initial})"
   ]
  }
 ],
 "metadata": {
  "kernelspec": {
   "display_name": "Python 3.10.7 64-bit ('3.10.7')",
   "language": "python",
   "name": "python3"
  },
  "language_info": {
   "codemirror_mode": {
    "name": "ipython",
    "version": 3
   },
   "file_extension": ".py",
   "mimetype": "text/x-python",
   "name": "python",
   "nbconvert_exporter": "python",
   "pygments_lexer": "ipython3",
   "version": "3.10.7"
  },
  "vscode": {
   "interpreter": {
    "hash": "f7aec60b62fdcaa1c7468c72c5627096edb77c6e7683c7a631da8b34f4e8342d"
   }
  }
 },
 "nbformat": 4,
 "nbformat_minor": 5
}
