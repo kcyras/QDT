{
 "cells": [
  {
   "cell_type": "markdown",
   "id": "fbecde83",
   "metadata": {},
   "source": [
    "Example 01\n",
    "\n",
    "arg($\\mathsf{a}$, 0.5). (**0.75**) \\\n",
    "arg($\\mathsf{b}$, 0.5). (**0.75**) \\\n",
    "arg($\\mathsf{c}$, 0.5). (**0.25**) \\\n",
    "arg($\\mathsf{d}$, 0.5). (**0.5**) \\\n",
    "arg($\\mathsf{e}$, 1). (**1**)\n",
    "\n",
    "supp($\\mathsf{b}$, $\\mathsf{a}$). \\\n",
    "att($\\mathsf{c}$, $\\mathsf{a}$). \\\n",
    "supp($\\mathsf{d}$, $\\mathsf{a}$). \\\n",
    "supp($\\mathsf{e}$, $\\mathsf{b}$). \\\n",
    "att($\\mathsf{e}$, $\\mathsf{c}$)."
   ]
  },
  {
   "cell_type": "code",
   "execution_count": 1,
   "id": "380dc4b5",
   "metadata": {},
   "outputs": [],
   "source": [
    "import numpy as np\n",
    "import sympy as sp\n",
    "sp.init_printing()\n",
    "\n",
    "a, b, c, d, e = sp.symbols('a b c d e')  # arguments"
   ]
  },
  {
   "cell_type": "markdown",
   "id": "ced579af",
   "metadata": {},
   "source": [
    "Define influence function for max-2 QE semantics via combine and impact:"
   ]
  },
  {
   "cell_type": "code",
   "execution_count": 2,
   "id": "b15668ce",
   "metadata": {},
   "outputs": [],
   "source": [
    "energy, initial = sp.symbols('energy initial')\n",
    "impact = lambda energy : sp.Max(0, energy)**2 / (1 + sp.Max(0, energy)**2)\n",
    "combine = lambda initial, energy : initial - initial*impact(-energy) + (1-initial)*impact(energy)"
   ]
  },
  {
   "cell_type": "markdown",
   "id": "d272af9a",
   "metadata": {},
   "source": [
    "We do not define an aggregation function, but instead, according to the topological order of the QBAG, manually define energies of arguments as $E_{\\mathsf{x}} = \\sum_{supp(\\mathsf{y}, \\mathsf{x})} \\sigma_{\\mathsf{y}} - \\sum_{att(\\mathsf{z}, \\mathsf{x})} \\sigma_{\\mathsf{z}}$. "
   ]
  },
  {
   "cell_type": "code",
   "execution_count": 3,
   "id": "b3be7f1d",
   "metadata": {},
   "outputs": [],
   "source": [
    "E_a, E_b, E_c, E_d, E_e = sp.symbols('E_a E_b E_c E_d E_e')  # E_x - symbolic variable for the energy of argument x"
   ]
  },
  {
   "cell_type": "markdown",
   "id": "c5ba4ab6",
   "metadata": {},
   "source": [
    "First, $\\mathsf{e}$ has no attackers or supporters, so its energy will be 0."
   ]
  },
  {
   "cell_type": "code",
   "execution_count": 4,
   "id": "4d1d862c",
   "metadata": {},
   "outputs": [
    {
     "data": {
      "image/png": "[encoded data removed]",
      "text/latex": [
       "$\\displaystyle e$"
      ],
      "text/plain": [
       "e"
      ]
     },
     "execution_count": 4,
     "metadata": {},
     "output_type": "execute_result"
    }
   ],
   "source": [
    "E_e = 0  # e has no children\n",
    "fs_e = combine(e, E_e)  # fs_x - symbolic variable for the final strength of argument x\n",
    "fs_e"
   ]
  },
  {
   "cell_type": "code",
   "execution_count": 5,
   "id": "a1557453",
   "metadata": {},
   "outputs": [
    {
     "data": {
      "image/png": "[encoded data removed]",
      "text/latex": [
       "$\\displaystyle 1.0$"
      ],
      "text/plain": [
       "1.00000000000000"
      ]
     },
     "execution_count": 5,
     "metadata": {},
     "output_type": "execute_result"
    }
   ],
   "source": [
    "e_initial = e.evalf(subs={e: 1.0}, chop=True)  # x_initial - initial strength of argument x\n",
    "e_initial"
   ]
  },
  {
   "cell_type": "code",
   "execution_count": 6,
   "id": "49c8a4fe",
   "metadata": {},
   "outputs": [
    {
     "data": {
      "image/png": "[encoded data removed]",
      "text/latex": [
       "$\\displaystyle 1.0$"
      ],
      "text/plain": [
       "1.00000000000000"
      ]
     },
     "execution_count": 6,
     "metadata": {},
     "output_type": "execute_result"
    }
   ],
   "source": [
    "e_final = fs_e.evalf(subs={e: e_initial})  # x_final - final strength of argument x\n",
    "e_final"
   ]
  },
  {
   "cell_type": "markdown",
   "id": "59222b0e",
   "metadata": {},
   "source": [
    "Similarly for $\\mathsf{d}$:"
   ]
  },
  {
   "cell_type": "code",
   "execution_count": 7,
   "id": "cf6791c2",
   "metadata": {},
   "outputs": [
    {
     "data": {
      "image/png": "[encoded data removed]",
      "text/latex": [
       "$\\displaystyle d$"
      ],
      "text/plain": [
       "d"
      ]
     },
     "execution_count": 7,
     "metadata": {},
     "output_type": "execute_result"
    }
   ],
   "source": [
    "E_d = 0  # d has no children\n",
    "fs_d = combine(d, E_d)\n",
    "fs_d"
   ]
  },
  {
   "cell_type": "code",
   "execution_count": 8,
   "id": "c2a3688a",
   "metadata": {},
   "outputs": [
    {
     "data": {
      "image/png": "[encoded data removed]",
      "text/latex": [
       "$\\displaystyle 0.5$"
      ],
      "text/plain": [
       "0.500000000000000"
      ]
     },
     "execution_count": 8,
     "metadata": {},
     "output_type": "execute_result"
    }
   ],
   "source": [
    "d_initial = d.evalf(subs={d: 0.5}, chop=True)\n",
    "d_initial"
   ]
  },
  {
   "cell_type": "code",
   "execution_count": 9,
   "id": "1c7a6a7a",
   "metadata": {},
   "outputs": [
    {
     "data": {
      "image/png": "[encoded data removed]",
      "text/latex": [
       "$\\displaystyle 0.5$"
      ],
      "text/plain": [
       "0.500000000000000"
      ]
     },
     "execution_count": 9,
     "metadata": {},
     "output_type": "execute_result"
    }
   ],
   "source": [
    "d_final = fs_d.evalf(subs={d: d_initial, e: e_initial})\n",
    "d_final"
   ]
  },
  {
   "cell_type": "markdown",
   "id": "da103ee8",
   "metadata": {},
   "source": [
    "As $\\mathsf{c}$ has only one child, namely attacker $\\mathsf{e}$, we get:"
   ]
  },
  {
   "cell_type": "code",
   "execution_count": 10,
   "id": "c55ea82d",
   "metadata": {},
   "outputs": [
    {
     "data": {
      "image/png": "[encoded data removed]",
      "text/latex": [
       "$\\displaystyle c - \\frac{c \\max\\left(0, e\\right)^{2}}{\\max\\left(0, e\\right)^{2} + 1} + \\frac{\\left(1 - c\\right) \\max\\left(0, - e\\right)^{2}}{\\max\\left(0, - e\\right)^{2} + 1}$"
      ],
      "text/plain": [
       "                2                      2\n",
       "     c⋅Max(0, e)     (1 - c)⋅Max(0, -e) \n",
       "c - ────────────── + ───────────────────\n",
       "             2                   2      \n",
       "    Max(0, e)  + 1     Max(0, -e)  + 1  "
      ]
     },
     "execution_count": 10,
     "metadata": {},
     "output_type": "execute_result"
    }
   ],
   "source": [
    "E_c = -fs_e  # e is the only attacker of c\n",
    "fs_c = combine(c, E_c)\n",
    "fs_c"
   ]
  },
  {
   "cell_type": "code",
   "execution_count": 11,
   "id": "df13f20b",
   "metadata": {},
   "outputs": [
    {
     "data": {
      "image/png": "[encoded data removed]",
      "text/latex": [
       "$\\displaystyle 0.5$"
      ],
      "text/plain": [
       "0.500000000000000"
      ]
     },
     "execution_count": 11,
     "metadata": {},
     "output_type": "execute_result"
    }
   ],
   "source": [
    "c_initial = c.evalf(subs={c: 0.5}, chop=True)\n",
    "c_initial"
   ]
  },
  {
   "cell_type": "code",
   "execution_count": 12,
   "id": "0dae5ed1",
   "metadata": {},
   "outputs": [
    {
     "data": {
      "image/png": "[encoded data removed]",
      "text/latex": [
       "$\\displaystyle 0.25$"
      ],
      "text/plain": [
       "0.250000000000000"
      ]
     },
     "execution_count": 12,
     "metadata": {},
     "output_type": "execute_result"
    }
   ],
   "source": [
    "c_final = fs_c.evalf(subs={c: c_initial, e: e_initial})\n",
    "c_final"
   ]
  },
  {
   "cell_type": "markdown",
   "id": "4e43475c",
   "metadata": {},
   "source": [
    "Similarly for $\\mathsf{b}$:"
   ]
  },
  {
   "cell_type": "code",
   "execution_count": 13,
   "id": "76d1f0a6",
   "metadata": {},
   "outputs": [
    {
     "data": {
      "image/png": "[encoded data removed]",
      "text/latex": [
       "$\\displaystyle b - \\frac{b \\max\\left(0, - e\\right)^{2}}{\\max\\left(0, - e\\right)^{2} + 1} + \\frac{\\left(1 - b\\right) \\max\\left(0, e\\right)^{2}}{\\max\\left(0, e\\right)^{2} + 1}$"
      ],
      "text/plain": [
       "                 2                     2\n",
       "     b⋅Max(0, -e)     (1 - b)⋅Max(0, e) \n",
       "b - ─────────────── + ──────────────────\n",
       "              2                  2      \n",
       "    Max(0, -e)  + 1     Max(0, e)  + 1  "
      ]
     },
     "execution_count": 13,
     "metadata": {},
     "output_type": "execute_result"
    }
   ],
   "source": [
    "E_b = fs_e  # e is the only supporter of b\n",
    "fs_b = combine(b, E_b)\n",
    "fs_b"
   ]
  },
  {
   "cell_type": "code",
   "execution_count": 14,
   "id": "b1d44cc0",
   "metadata": {},
   "outputs": [
    {
     "data": {
      "image/png": "[encoded data removed]",
      "text/latex": [
       "$\\displaystyle 0.5$"
      ],
      "text/plain": [
       "0.500000000000000"
      ]
     },
     "execution_count": 14,
     "metadata": {},
     "output_type": "execute_result"
    }
   ],
   "source": [
    "b_initial = b.evalf(subs={b: 0.5}, chop=True)\n",
    "b_initial"
   ]
  },
  {
   "cell_type": "code",
   "execution_count": 15,
   "id": "7a6b5e3d",
   "metadata": {},
   "outputs": [
    {
     "data": {
      "image/png": "[encoded data removed]",
      "text/latex": [
       "$\\displaystyle 0.75$"
      ],
      "text/plain": [
       "0.750000000000000"
      ]
     },
     "execution_count": 15,
     "metadata": {},
     "output_type": "execute_result"
    }
   ],
   "source": [
    "b_final = fs_b.evalf(subs={b: b_initial, e: e_initial})\n",
    "b_final"
   ]
  },
  {
   "cell_type": "markdown",
   "id": "e189f0ad",
   "metadata": {},
   "source": [
    "Finally, for $\\mathsf{a}$, its final strength is eventually a function of the initial sstrengths of $\\mathsf{a}$, $\\mathsf{b}$, $\\mathsf{c}$, $\\mathsf{d}$, $\\mathsf{e}$:"
   ]
  },
  {
   "cell_type": "code",
   "execution_count": 16,
   "id": "a3451a4b",
   "metadata": {},
   "outputs": [
    {
     "data": {
      "image/png": "[encoded data removed]",
      "text/latex": [
       "$\\displaystyle a - \\frac{a \\max\\left(0, - b + \\frac{b \\max\\left(0, - e\\right)^{2}}{\\max\\left(0, - e\\right)^{2} + 1} + c - \\frac{c \\max\\left(0, e\\right)^{2}}{\\max\\left(0, e\\right)^{2} + 1} - d - \\frac{\\left(1 - b\\right) \\max\\left(0, e\\right)^{2}}{\\max\\left(0, e\\right)^{2} + 1} + \\frac{\\left(1 - c\\right) \\max\\left(0, - e\\right)^{2}}{\\max\\left(0, - e\\right)^{2} + 1}\\right)^{2}}{\\max\\left(0, - b + \\frac{b \\max\\left(0, - e\\right)^{2}}{\\max\\left(0, - e\\right)^{2} + 1} + c - \\frac{c \\max\\left(0, e\\right)^{2}}{\\max\\left(0, e\\right)^{2} + 1} - d - \\frac{\\left(1 - b\\right) \\max\\left(0, e\\right)^{2}}{\\max\\left(0, e\\right)^{2} + 1} + \\frac{\\left(1 - c\\right) \\max\\left(0, - e\\right)^{2}}{\\max\\left(0, - e\\right)^{2} + 1}\\right)^{2} + 1} + \\frac{\\left(1 - a\\right) \\max\\left(0, b - \\frac{b \\max\\left(0, - e\\right)^{2}}{\\max\\left(0, - e\\right)^{2} + 1} - c + \\frac{c \\max\\left(0, e\\right)^{2}}{\\max\\left(0, e\\right)^{2} + 1} + d + \\frac{\\left(1 - b\\right) \\max\\left(0, e\\right)^{2}}{\\max\\left(0, e\\right)^{2} + 1} - \\frac{\\left(1 - c\\right) \\max\\left(0, - e\\right)^{2}}{\\max\\left(0, - e\\right)^{2} + 1}\\right)^{2}}{\\max\\left(0, b - \\frac{b \\max\\left(0, - e\\right)^{2}}{\\max\\left(0, - e\\right)^{2} + 1} - c + \\frac{c \\max\\left(0, e\\right)^{2}}{\\max\\left(0, e\\right)^{2} + 1} + d + \\frac{\\left(1 - b\\right) \\max\\left(0, e\\right)^{2}}{\\max\\left(0, e\\right)^{2} + 1} - \\frac{\\left(1 - c\\right) \\max\\left(0, - e\\right)^{2}}{\\max\\left(0, - e\\right)^{2} + 1}\\right)^{2} + 1}$"
      ],
      "text/plain": [
       "                                                                              \n",
       "     a⋅Max(0, -b + b*Max(0, -e)**2/(Max(0, -e)**2 + 1) + c - c*Max(0, e)**2/(M\n",
       "a - ──────────────────────────────────────────────────────────────────────────\n",
       "                                                                              \n",
       "    Max(0, -b + b*Max(0, -e)**2/(Max(0, -e)**2 + 1) + c - c*Max(0, e)**2/(Max(\n",
       "\n",
       "                                                                              \n",
       "ax(0, e)**2 + 1) - d - (1 - b)*Max(0, e)**2/(Max(0, e)**2 + 1) + (1 - c)*Max(0\n",
       "──────────────────────────────────────────────────────────────────────────────\n",
       "                                                                              \n",
       "0, e)**2 + 1) - d - (1 - b)*Max(0, e)**2/(Max(0, e)**2 + 1) + (1 - c)*Max(0, -\n",
       "\n",
       "                             2                                                \n",
       ", -e)**2/(Max(0, -e)**2 + 1))     (1 - a)⋅Max(0, b - b*Max(0, -e)**2/(Max(0, -\n",
       "─────────────────────────────── + ────────────────────────────────────────────\n",
       "                          2                                                   \n",
       "e)**2/(Max(0, -e)**2 + 1))  + 1     Max(0, b - b*Max(0, -e)**2/(Max(0, -e)**2 \n",
       "\n",
       "                                                                              \n",
       "e)**2 + 1) - c + c*Max(0, e)**2/(Max(0, e)**2 + 1) + d + (1 - b)*Max(0, e)**2/\n",
       "──────────────────────────────────────────────────────────────────────────────\n",
       "                                                                              \n",
       "+ 1) - c + c*Max(0, e)**2/(Max(0, e)**2 + 1) + d + (1 - b)*Max(0, e)**2/(Max(0\n",
       "\n",
       "                                                               2\n",
       "(Max(0, e)**2 + 1) - (1 - c)*Max(0, -e)**2/(Max(0, -e)**2 + 1)) \n",
       "────────────────────────────────────────────────────────────────\n",
       "                                                         2      \n",
       ", e)**2 + 1) - (1 - c)*Max(0, -e)**2/(Max(0, -e)**2 + 1))  + 1  "
      ]
     },
     "execution_count": 16,
     "metadata": {},
     "output_type": "execute_result"
    }
   ],
   "source": [
    "E_a = fs_b + fs_d - fs_c\n",
    "fs_a = combine(a, E_a)\n",
    "fs_a"
   ]
  },
  {
   "cell_type": "code",
   "execution_count": 17,
   "id": "19545118",
   "metadata": {},
   "outputs": [
    {
     "data": {
      "image/png": "[encoded data removed]",
      "text/latex": [
       "$\\displaystyle 0.5$"
      ],
      "text/plain": [
       "0.500000000000000"
      ]
     },
     "execution_count": 17,
     "metadata": {},
     "output_type": "execute_result"
    }
   ],
   "source": [
    "a_initial = a.evalf(subs={a: 0.5}, chop=True)\n",
    "a_initial"
   ]
  },
  {
   "cell_type": "code",
   "execution_count": 18,
   "id": "c3d18ae9",
   "metadata": {},
   "outputs": [
    {
     "data": {
      "image/png": "[encoded data removed]",
      "text/latex": [
       "$\\displaystyle 0.75$"
      ],
      "text/plain": [
       "0.750000000000000"
      ]
     },
     "execution_count": 18,
     "metadata": {},
     "output_type": "execute_result"
    }
   ],
   "source": [
    "a_final = fs_a.evalf(subs={a: a_initial, b: b_initial, c: c_initial, d: d_initial, e: e_initial})\n",
    "a_final"
   ]
  },
  {
   "cell_type": "markdown",
   "id": "40c2273c",
   "metadata": {},
   "source": [
    "We can compute the contributions to $\\mathsf{a}$ according to the gradient saliency method, evaluating them at the point of initial strengths."
   ]
  },
  {
   "cell_type": "code",
   "execution_count": 19,
   "id": "d74b4257",
   "metadata": {},
   "outputs": [],
   "source": [
    "pdfs_a_b = fs_a.diff(b)  # pdf_x - partial derivative of f wrt x\n",
    "pdfs_a_c = fs_a.diff(c)\n",
    "pdfs_a_d = fs_a.diff(d)\n",
    "pdfs_a_e = fs_a.diff(e)"
   ]
  },
  {
   "cell_type": "markdown",
   "id": "912c9010",
   "metadata": {},
   "source": [
    "We can evaluate with `sympy` itself, e.g. $\\left. \\frac{\\partial \\sigma_{\\mathsf{a}}}{\\partial \\mathsf{e}} \\right|_{a_{initial}, b_{initial}, c_{initial}, d_{initial}, e_{initial}}$:"
   ]
  },
  {
   "cell_type": "code",
   "execution_count": 20,
   "id": "5e61d2e9",
   "metadata": {},
   "outputs": [
    {
     "data": {
      "image/png": "[encoded data removed]",
      "text/latex": [
       "$\\displaystyle 0.125$"
      ],
      "text/plain": [
       "0.125000000000000"
      ]
     },
     "execution_count": 20,
     "metadata": {},
     "output_type": "execute_result"
    }
   ],
   "source": [
    "pdfs_a_e.evalf(subs = {a: a_initial, b: b_initial, c: c_initial, d: d_initial, e: e_initial})"
   ]
  },
  {
   "cell_type": "markdown",
   "id": "5c72bbf0",
   "metadata": {},
   "source": [
    "But `numpy` is much more efficient at numerical evaluation"
   ]
  },
  {
   "cell_type": "code",
   "execution_count": 21,
   "id": "9987c241",
   "metadata": {},
   "outputs": [
    {
     "data": {
      "image/png": "[encoded data removed]",
      "text/latex": [
       "$\\displaystyle 0.125$"
      ],
      "text/plain": [
       "0.125000000000000"
      ]
     },
     "execution_count": 21,
     "metadata": {},
     "output_type": "execute_result"
    }
   ],
   "source": [
    "pdfs_a_b_eval = sp.lambdify([a, b, c, d, e], pdfs_a_b, 'numpy')\n",
    "pdfs_a_b_eval(a_initial, b_initial, c_initial, d_initial, e_initial)"
   ]
  },
  {
   "cell_type": "code",
   "execution_count": 22,
   "id": "3a225778",
   "metadata": {},
   "outputs": [
    {
     "data": {
      "image/png": "[encoded data removed]",
      "text/latex": [
       "$\\displaystyle -0.125$"
      ],
      "text/plain": [
       "-0.125000000000000"
      ]
     },
     "execution_count": 22,
     "metadata": {},
     "output_type": "execute_result"
    }
   ],
   "source": [
    "pdfs_a_c_eval = sp.lambdify([a, b, c, d, e], pdfs_a_c, 'numpy')\n",
    "pdfs_a_c_eval(a_initial, b_initial, c_initial, d_initial, e_initial)"
   ]
  },
  {
   "cell_type": "code",
   "execution_count": 23,
   "id": "08a2df9b",
   "metadata": {},
   "outputs": [
    {
     "data": {
      "image/png": "[encoded data removed]",
      "text/latex": [
       "$\\displaystyle 0.25$"
      ],
      "text/plain": [
       "0.250000000000000"
      ]
     },
     "execution_count": 23,
     "metadata": {},
     "output_type": "execute_result"
    }
   ],
   "source": [
    "pdfs_a_d_eval = sp.lambdify([a, b, c, d, e], pdfs_a_d, 'numpy')\n",
    "pdfs_a_d_eval(a_initial, b_initial, c_initial, d_initial, e_initial)"
   ]
  },
  {
   "cell_type": "code",
   "execution_count": 24,
   "id": "5f50f22f",
   "metadata": {},
   "outputs": [
    {
     "data": {
      "image/png": "[encoded data removed]",
      "text/latex": [
       "$\\displaystyle 0.125$"
      ],
      "text/plain": [
       "0.125000000000000"
      ]
     },
     "execution_count": 24,
     "metadata": {},
     "output_type": "execute_result"
    }
   ],
   "source": [
    "pdfs_a_e_eval = sp.lambdify([a, b, c, d, e], pdfs_a_e, 'numpy')\n",
    "pdfs_a_e_eval(a_initial, b_initial, c_initial, d_initial, e_initial)"
   ]
  }
 ],
 "metadata": {
  "kernelspec": {
   "display_name": "Python 3 (ipykernel)",
   "language": "python",
   "name": "python3"
  },
  "language_info": {
   "codemirror_mode": {
    "name": "ipython",
    "version": 3
   },
   "file_extension": ".py",
   "mimetype": "text/x-python",
   "name": "python",
   "nbconvert_exporter": "python",
   "pygments_lexer": "ipython3",
   "version": "3.10.2"
  }
 },
 "nbformat": 4,
 "nbformat_minor": 5
}
