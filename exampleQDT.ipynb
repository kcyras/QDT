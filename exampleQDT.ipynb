{
 "cells": [
  {
   "cell_type": "markdown",
   "id": "cd6e092c",
   "metadata": {},
   "source": [
    "Example 4.1\n",
    "\n",
    "arg($\\mathsf{a}$, 0.5). (**0.519**) \\\n",
    "arg($\\mathsf{b}$, 0.2). (**0.172**) \\\n",
    "arg($\\mathsf{c}$, 0.85). (**0.625**) \\\n",
    "arg($\\mathsf{d}$, 0.65). (**0.65**) \\\n",
    "arg($\\mathsf{e}$, 0.4). (**0.4**) \\\n",
    "arg($\\mathsf{f}$, 1). (**1**)\n",
    "\n",
    "supp($\\mathsf{b}$, $\\mathsf{a}$). \\\n",
    "att($\\mathsf{c}$, $\\mathsf{a}$). \\\n",
    "supp($\\mathsf{d}$, $\\mathsf{a}$). \\\n",
    "att($\\mathsf{e}$, $\\mathsf{b}$). \\\n",
    "supp($\\mathsf{e}$, $\\mathsf{c}$). \\\n",
    "att($\\mathsf{f}$, $\\mathsf{c}$)."
   ]
  },
  {
   "cell_type": "code",
   "execution_count": 16,
   "id": "configured-indianapolis",
   "metadata": {},
   "outputs": [],
   "source": [
    "%%capture\n",
    "# install dependencies\n",
    "try:\n",
    "    import sympy\n",
    "except:\n",
    "    import sys\n",
    "    !{sys.executable} -m pip install sympy"
   ]
  },
  {
   "cell_type": "code",
   "execution_count": 17,
   "id": "a5c83083",
   "metadata": {},
   "outputs": [],
   "source": [
    "import sympy as sp\n",
    "sp.init_printing()\n",
    "\n",
    "a, b, c, d, e, f = sp.symbols('a b c d e f')  # arguments\n",
    "E_a, E_b, E_c, E_d, E_e, E_f = sp.symbols('E_a E_b E_c E_d E_e E_f')  # E_x - symbolic variable for the energy of argument x\n",
    "\n",
    "energy, initial = sp.symbols('energy initial')\n",
    "impact = lambda energy : sp.Max(0, energy)**2 / (1 + sp.Max(0, energy)**2)\n",
    "combine = lambda initial, energy : initial - initial*impact(-energy) + (1-initial)*impact(energy)  # QE semantics"
   ]
  },
  {
   "cell_type": "code",
   "execution_count": 18,
   "id": "8dda2e92",
   "metadata": {},
   "outputs": [
    {
     "data": {
      "text/latex": [
       "$\\displaystyle 1.0$"
      ],
      "text/plain": [
       "1.00000000000000"
      ]
     },
     "execution_count": 18,
     "metadata": {},
     "output_type": "execute_result"
    }
   ],
   "source": [
    "E_f = 0  # f has no children (attackers or supporters)\n",
    "fs_f = combine(f, E_f)  # fs_x - symbolic variable for the final strength of argument x\n",
    "f_initial = f.evalf(subs={f: 1.0}, chop=True)  # x_initial - initial strength of argument x\n",
    "f_final = fs_f.evalf(subs={f: f_initial})  # x_final - final strength of argument x\n",
    "f_final"
   ]
  },
  {
   "cell_type": "code",
   "execution_count": 19,
   "id": "c7668619",
   "metadata": {},
   "outputs": [
    {
     "data": {
      "text/latex": [
       "$\\displaystyle 0.4$"
      ],
      "text/plain": [
       "0.400000000000000"
      ]
     },
     "execution_count": 19,
     "metadata": {},
     "output_type": "execute_result"
    }
   ],
   "source": [
    "E_e = 0  # e has no children\n",
    "fs_e = combine(e, E_e)\n",
    "e_initial = e.evalf(subs={e: 0.4}, chop=True)\n",
    "e_final = fs_e.evalf(subs={e: e_initial})\n",
    "e_final"
   ]
  },
  {
   "cell_type": "code",
   "execution_count": 20,
   "id": "34b1f393",
   "metadata": {},
   "outputs": [
    {
     "data": {
      "text/latex": [
       "$\\displaystyle 0.65$"
      ],
      "text/plain": [
       "0.650000000000000"
      ]
     },
     "execution_count": 20,
     "metadata": {},
     "output_type": "execute_result"
    }
   ],
   "source": [
    "E_d = 0  # d has no children\n",
    "fs_d = combine(d, E_d)\n",
    "d_initial = d.evalf(subs={d: 0.65}, chop=True)\n",
    "d_final = fs_d.evalf(subs={d: d_initial})\n",
    "d_final"
   ]
  },
  {
   "cell_type": "code",
   "execution_count": 21,
   "id": "013b761a",
   "metadata": {},
   "outputs": [
    {
     "data": {
      "text/latex": [
       "$\\displaystyle \\left( 0.85, \\  0.625\\right)$"
      ],
      "text/plain": [
       "(0.85, 0.625)"
      ]
     },
     "execution_count": 21,
     "metadata": {},
     "output_type": "execute_result"
    }
   ],
   "source": [
    "E_c = fs_e - fs_f  # c is supported by e and attacked by f\n",
    "fs_c = combine(c, E_c)\n",
    "c_initial = c.evalf(subs={c: 0.85}, chop=True)\n",
    "c_final = fs_c.evalf(subs={c: c_initial, e: e_initial, f: f_initial})\n",
    "c_initial, c_final"
   ]
  },
  {
   "cell_type": "code",
   "execution_count": 22,
   "id": "4eb138b3",
   "metadata": {},
   "outputs": [
    {
     "data": {
      "text/latex": [
       "$\\displaystyle 0.172413793103448$"
      ],
      "text/plain": [
       "0.172413793103448"
      ]
     },
     "execution_count": 22,
     "metadata": {},
     "output_type": "execute_result"
    }
   ],
   "source": [
    "E_b = -fs_e  # b is attacked by e\n",
    "fs_b = combine(b, E_b)\n",
    "b_initial = b.evalf(subs={b: 0.2}, chop=True)\n",
    "b_final = fs_b.evalf(subs={b: b_initial, e: e_initial})\n",
    "b_final"
   ]
  },
  {
   "cell_type": "code",
   "execution_count": 23,
   "id": "b8ab82f6",
   "metadata": {},
   "outputs": [
    {
     "data": {
      "text/latex": [
       "$\\displaystyle \\left( 0.5, \\  0.51875517241626\\right)$"
      ],
      "text/plain": [
       "(0.5, 0.51875517241626)"
      ]
     },
     "execution_count": 23,
     "metadata": {},
     "output_type": "execute_result"
    }
   ],
   "source": [
    "E_a = fs_b + fs_d - fs_c\n",
    "fs_a = combine(a, E_a)\n",
    "a_initial = a.evalf(subs={a: 0.5}, chop=True)\n",
    "a_final = fs_a.evalf(subs={a: a_initial, b: b_initial, c: c_initial, d: d_initial, e: e_initial, f: f_initial})\n",
    "a_initial, a_final"
   ]
  },
  {
   "cell_type": "code",
   "execution_count": 24,
   "id": "a045a9bc",
   "metadata": {},
   "outputs": [],
   "source": [
    "pdfs_a_a = fs_a.diff(a)  # pdf_x - partial derivative of f wrt x\n",
    "pdfs_a_b = fs_a.diff(b)\n",
    "pdfs_a_c = fs_a.diff(c)\n",
    "pdfs_a_d = fs_a.diff(d)\n",
    "pdfs_a_e = fs_a.diff(e)\n",
    "pdfs_a_f = fs_a.diff(f)"
   ]
  },
  {
   "cell_type": "markdown",
   "id": "d2f0cd93",
   "metadata": {},
   "source": [
    "Argument contributions to the final strength of $\\mathsf{a}$ are as follows:"
   ]
  },
  {
   "cell_type": "code",
   "execution_count": 25,
   "id": "a4b1d2d4",
   "metadata": {},
   "outputs": [
    {
     "data": {
      "text/latex": [
       "$\\displaystyle 0.962489655167481$"
      ],
      "text/plain": [
       "0.962489655167481"
      ]
     },
     "execution_count": 25,
     "metadata": {},
     "output_type": "execute_result"
    }
   ],
   "source": [
    "pdfs_a_a.evalf(subs={a: a_initial, b: b_initial, c: c_initial, d: d_initial, e: e_initial, f: f_initial}, chop=True)"
   ]
  },
  {
   "cell_type": "code",
   "execution_count": 26,
   "id": "d686325c",
   "metadata": {},
   "outputs": [
    {
     "data": {
      "text/latex": [
       "$\\displaystyle 0.157656414249191$"
      ],
      "text/plain": [
       "0.157656414249191"
      ]
     },
     "execution_count": 26,
     "metadata": {},
     "output_type": "execute_result"
    }
   ],
   "source": [
    "pdfs_a_b.evalf(subs={a: a_initial, b: b_initial, c: c_initial, d: d_initial, e: e_initial, f: f_initial}, chop=True)"
   ]
  },
  {
   "cell_type": "code",
   "execution_count": 27,
   "id": "ff93c0ee",
   "metadata": {},
   "outputs": [
    {
     "data": {
      "text/latex": [
       "$\\displaystyle -0.134471647447839$"
      ],
      "text/plain": [
       "-0.134471647447839"
      ]
     },
     "execution_count": 27,
     "metadata": {},
     "output_type": "execute_result"
    }
   ],
   "source": [
    "pdfs_a_c.evalf(subs={a: a_initial, b: b_initial, c: c_initial, d: d_initial, e: e_initial, f: f_initial}, chop=True)"
   ]
  },
  {
   "cell_type": "code",
   "execution_count": 28,
   "id": "98023193",
   "metadata": {},
   "outputs": [
    {
     "data": {
      "text/latex": [
       "$\\displaystyle 0.182881440529061$"
      ],
      "text/plain": [
       "0.182881440529061"
      ]
     },
     "execution_count": 28,
     "metadata": {},
     "output_type": "execute_result"
    }
   ],
   "source": [
    "pdfs_a_d.evalf(subs={a: a_initial, b: b_initial, c: c_initial, d: d_initial, e: e_initial, f: f_initial}, chop=True)"
   ]
  },
  {
   "cell_type": "code",
   "execution_count": 29,
   "id": "38522142",
   "metadata": {},
   "outputs": [
    {
     "data": {
      "text/latex": [
       "$\\displaystyle -0.122599447896113$"
      ],
      "text/plain": [
       "-0.122599447896113"
      ]
     },
     "execution_count": 29,
     "metadata": {},
     "output_type": "execute_result"
    }
   ],
   "source": [
    "pdfs_a_e.evalf(subs={a: a_initial, b: b_initial, c: c_initial, d: d_initial, e: e_initial, f: f_initial}, chop=True)"
   ]
  },
  {
   "cell_type": "code",
   "execution_count": 30,
   "id": "141858e8",
   "metadata": {},
   "outputs": [
    {
     "data": {
      "text/latex": [
       "$\\displaystyle 0.100853735585879$"
      ],
      "text/plain": [
       "0.100853735585879"
      ]
     },
     "execution_count": 30,
     "metadata": {},
     "output_type": "execute_result"
    }
   ],
   "source": [
    "pdfs_a_f.evalf(subs={a: a_initial, b: b_initial, c: c_initial, d: d_initial, e: e_initial, f: f_initial}, chop=True)"
   ]
  }
 ],
 "metadata": {
  "kernelspec": {
   "display_name": "Python 3.10.7 64-bit ('3.10.7')",
   "language": "python",
   "name": "python3"
  },
  "language_info": {
   "codemirror_mode": {
    "name": "ipython",
    "version": 3
   },
   "file_extension": ".py",
   "mimetype": "text/x-python",
   "name": "python",
   "nbconvert_exporter": "python",
   "pygments_lexer": "ipython3",
   "version": "3.10.7"
  },
  "vscode": {
   "interpreter": {
    "hash": "f7aec60b62fdcaa1c7468c72c5627096edb77c6e7683c7a631da8b34f4e8342d"
   }
  }
 },
 "nbformat": 4,
 "nbformat_minor": 5
}
