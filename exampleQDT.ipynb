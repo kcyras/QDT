{
 "cells": [
  {
   "cell_type": "code",
   "execution_count": 1,
   "id": "a5c83083",
   "metadata": {},
   "outputs": [],
   "source": [
    "import numpy as np\n",
    "import sympy as sp\n",
    "sp.init_printing()\n",
    "\n",
    "a, b, c, d, e, f = sp.symbols('a b c d e f')\n",
    "E_a, E_b, E_c, E_d, E_e, E_f = sp.symbols('E_a E_b E_c E_d E_e E_f')\n",
    "\n",
    "energy, initial = sp.symbols('energy initial')\n",
    "impact = lambda energy : sp.Max(0, energy)**2 / (1 + sp.Max(0, energy)**2)\n",
    "combine = lambda initial, energy : initial - initial*impact(-energy) + (1-initial)*impact(energy)"
   ]
  },
  {
   "cell_type": "code",
   "execution_count": null,
   "id": "8dda2e92",
   "metadata": {},
   "outputs": [],
   "source": [
    "E_f = 0  # f has no children\n",
    "fs_f = combine(f, E_f)\n",
    "f_initial = f.evalf(subs={f: 1.0}, chop=True)\n",
    "f_final = fs_f.evalf(subs={f: f_initial})\n",
    "f_final"
   ]
  },
  {
   "cell_type": "code",
   "execution_count": null,
   "id": "c7668619",
   "metadata": {},
   "outputs": [],
   "source": [
    "E_e = 0  # e has no children\n",
    "fs_e = combine(e, E_e)\n",
    "e_initial = e.evalf(subs={e: 0.4}, chop=True)\n",
    "e_final = fs_e.evalf(subs={e: e_initial})\n",
    "e_final"
   ]
  },
  {
   "cell_type": "code",
   "execution_count": null,
   "id": "34b1f393",
   "metadata": {},
   "outputs": [],
   "source": [
    "E_d = 0\n",
    "fs_d = combine(d, E_d)\n",
    "d_initial = d.evalf(subs={d: 0.65}, chop=True)\n",
    "d_final = fs_d.evalf(subs={d: d_initial})\n",
    "d_final"
   ]
  },
  {
   "cell_type": "code",
   "execution_count": null,
   "id": "013b761a",
   "metadata": {},
   "outputs": [],
   "source": [
    "E_c = fs_e - fs_f\n",
    "fs_c = combine(c, E_c)\n",
    "c_initial = c.evalf(subs={c: 0.85}, chop=True)\n",
    "c_final = fs_c.evalf(subs={c: c_initial, e: e_initial, f: f_initial})\n",
    "c_initial, c_final"
   ]
  },
  {
   "cell_type": "code",
   "execution_count": null,
   "id": "4eb138b3",
   "metadata": {},
   "outputs": [],
   "source": [
    "E_b = -fs_e\n",
    "fs_b = combine(b, E_b)\n",
    "b_initial = b.evalf(subs={b: 0.2}, chop=True)\n",
    "b_final = fs_b.evalf(subs={b: b_initial, e: e_initial})\n",
    "b_final"
   ]
  },
  {
   "cell_type": "code",
   "execution_count": null,
   "id": "b8ab82f6",
   "metadata": {},
   "outputs": [],
   "source": [
    "E_a = fs_b + fs_d - fs_c\n",
    "fs_a = combine(a, E_a)\n",
    "a_initial = a.evalf(subs={a: 0.5}, chop=True)\n",
    "a_final = fs_a.evalf(subs={a: a_initial, b: b_initial, c: c_initial, d: d_initial, e: e_initial, f: f_initial})\n",
    "a_initial, a_final"
   ]
  },
  {
   "cell_type": "code",
   "execution_count": null,
   "id": "a045a9bc",
   "metadata": {},
   "outputs": [],
   "source": [
    "pdfs_a_a = fs_a.diff(a)\n",
    "pdfs_a_b = fs_a.diff(b)\n",
    "pdfs_a_c = fs_a.diff(c)\n",
    "pdfs_a_d = fs_a.diff(d)\n",
    "pdfs_a_e = fs_a.diff(e)\n",
    "pdfs_a_f = fs_a.diff(f)"
   ]
  },
  {
   "cell_type": "code",
   "execution_count": null,
   "id": "a4b1d2d4",
   "metadata": {},
   "outputs": [],
   "source": [
    "pdfs_a_a.evalf(subs={a: a_initial, b: b_initial, c: c_initial, d: d_initial, e: e_initial, f: f_initial}, chop=True)"
   ]
  },
  {
   "cell_type": "code",
   "execution_count": null,
   "id": "d686325c",
   "metadata": {},
   "outputs": [],
   "source": [
    "pdfs_a_b.evalf(subs={a: a_initial, b: b_initial, c: c_initial, d: d_initial, e: e_initial, f: f_initial}, chop=True)"
   ]
  },
  {
   "cell_type": "code",
   "execution_count": null,
   "id": "ff93c0ee",
   "metadata": {},
   "outputs": [],
   "source": [
    "pdfs_a_c.evalf(subs={a: a_initial, b: b_initial, c: c_initial, d: d_initial, e: e_initial, f: f_initial}, chop=True)"
   ]
  },
  {
   "cell_type": "code",
   "execution_count": null,
   "id": "98023193",
   "metadata": {},
   "outputs": [],
   "source": [
    "pdfs_a_d.evalf(subs={a: a_initial, b: b_initial, c: c_initial, d: d_initial, e: e_initial, f: f_initial}, chop=True)"
   ]
  },
  {
   "cell_type": "code",
   "execution_count": null,
   "id": "38522142",
   "metadata": {},
   "outputs": [],
   "source": [
    "pdfs_a_e.evalf(subs={a: a_initial, b: b_initial, c: c_initial, d: d_initial, e: e_initial, f: f_initial}, chop=True)"
   ]
  },
  {
   "cell_type": "code",
   "execution_count": null,
   "id": "141858e8",
   "metadata": {},
   "outputs": [],
   "source": [
    "pdfs_a_f.evalf(subs={a: a_initial, b: b_initial, c: c_initial, d: d_initial, e: e_initial, f: f_initial}, chop=True)"
   ]
  }
 ],
 "metadata": {
  "kernelspec": {
   "display_name": "Python 3 (ipykernel)",
   "language": "python",
   "name": "python3"
  },
  "language_info": {
   "codemirror_mode": {
    "name": "ipython",
    "version": 3
   },
   "file_extension": ".py",
   "mimetype": "text/x-python",
   "name": "python",
   "nbconvert_exporter": "python",
   "pygments_lexer": "ipython3",
   "version": "3.10.2"
  }
 },
 "nbformat": 4,
 "nbformat_minor": 5
}
